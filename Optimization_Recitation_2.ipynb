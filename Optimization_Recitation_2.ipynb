{
  "nbformat": 4,
  "nbformat_minor": 0,
  "metadata": {
    "colab": {
      "provenance": [],
      "include_colab_link": true
    },
    "kernelspec": {
      "name": "python3",
      "display_name": "Python 3"
    },
    "language_info": {
      "name": "python"
    }
  },
  "cells": [
    {
      "cell_type": "markdown",
      "metadata": {
        "id": "view-in-github",
        "colab_type": "text"
      },
      "source": [
        "<a href=\"https://colab.research.google.com/github/0vv0xtt/math-ua-253-recitation-materials/blob/main/Optimization_Recitation_2.ipynb\" target=\"_parent\"><img src=\"https://colab.research.google.com/assets/colab-badge.svg\" alt=\"Open In Colab\"/></a>"
      ]
    },
    {
      "cell_type": "code",
      "execution_count": null,
      "metadata": {
        "id": "kc5cJ--I4ibZ"
      },
      "outputs": [],
      "source": [
        "import numpy as np\n",
        "import matplotlib.pyplot as plt\n",
        "import math"
      ]
    },
    {
      "cell_type": "markdown",
      "source": [
        "## Nonlinear least squares problem\n",
        "\n",
        "Suppose someone gives us the Michaelis–Menten model for enzyme kinetics:\n",
        "\n",
        "$$ y = f(x, a, b) = \\frac{ax}{b + x}. $$\n",
        "\n",
        "In this model $x$ is the input and we want to estimate the parameters $a$ and $b$ given certain N observations $y$.\n",
        "\n",
        "### Inspection the model\n",
        "#### a) Plot the true solution \n",
        "In this case we know the values of the optimal $a$ and $b$ but right now we want to explore how this function looks. Generate a plot of the function with $0 \\leq x \\leq 100$ and the optimal parameters."
      ],
      "metadata": {
        "id": "zGwcfum487Fs"
      }
    },
    {
      "cell_type": "code",
      "source": [
        "#define the function\n",
        "def kin(x,a,b):\n",
        "  #kinetic model\n",
        "  return np.divide (a*x,b+x)\n",
        "\n",
        "# assume we know the true values of a,b\n",
        "\n",
        "a=300\n",
        "b=50\n",
        "x = np.linspace(0,500,100) #plot 100 points btw. 0 and 500\n",
        "\n",
        "# y = np.zeros(x.shape) from last class\n",
        "y = kin(x,a,b) # simpler and faster than a for loop\n",
        "\n",
        "plt.figure (figsize = (2,2))\n",
        "plt.axis ('equal')\n",
        "#find a color for the plot\n",
        "plt.scatter (x,y, s=2, color = 'purple', marker = \".\" )#s is the size, c is the colour, marker is the shape of the marker\n",
        "plt.title (\"Michaelis-Menten model for enzyme kinitics\")\n",
        "plt.xlabel (\"x\")\n",
        "plt.ylabel (\"y\")"
      ],
      "metadata": {
        "colab": {
          "base_uri": "https://localhost:8080/",
          "height": 204
        },
        "id": "2tukFGKR4rwo",
        "outputId": "953b4a48-9083-4e38-e63a-a5135b0e8783"
      },
      "execution_count": null,
      "outputs": [
        {
          "output_type": "execute_result",
          "data": {
            "text/plain": [
              "Text(0, 0.5, 'y')"
            ]
          },
          "metadata": {},
          "execution_count": 2
        },
        {
          "output_type": "display_data",
          "data": {
            "text/plain": [
              "<Figure size 144x144 with 1 Axes>"
            ],
            "image/png": "[encoded data removed]"
          },
          "metadata": {
            "needs_background": "light"
          }
        }
      ]
    },
    {
      "cell_type": "markdown",
      "source": [
        "Let $c = (a, b)^\\top$ be the vector of parameters and recall Gauss Newton:\n",
        "$$ c_{n+1} = c_n + \\left( Df(c_n)^\\top Df(c_n) \\right)^{-1}Df(c_n)^\\top \\left( y - f(c_n) \\right) $$\n",
        "\n",
        "With $N$ number of observations $y$, what is the correct size of the $Df(c_n)$ matrix? Then, what is the correct size of this matrix $\\left( Df(c_n)^\\top Df(c_n) \\right)^{-1}$?  \n",
        "\n",
        "Let N = 100 as before, program Gauss-Newton method to fit the true observations (the ones we found in the line above).\n",
        "\n",
        "What are the \"ingredients\" we need for Gauss-Newton?\n",
        "   - Jacobian matrix Df(c_n)\n",
        "   - Initial point, in our case is a point $c_0 = (a_0, b_0)^\\top$\n",
        "   - Some points x (of size N) and some observations y (of size N as well)"
      ],
      "metadata": {
        "id": "HZpOBz3v9BoV"
      }
    },
    {
      "cell_type": "markdown",
      "source": [],
      "metadata": {
        "id": "f2WC3g3u7uO1"
      }
    },
    {
      "cell_type": "code",
      "source": [
        "from numpy.linalg import norm, inv\n",
        "\n",
        "#need to compute the jacobian\n",
        "def computeDf(c,x):\n",
        "  Df = np.zeros ((len(x),len(c))) # initializing a matrix full of zeros \n",
        "  Df[:,0] = np.divide (x,c[1]+x) # partial with respect to a\n",
        "  Df[:,1] = np.divide (-c[0]*x,np.power(c[1]+x,2))\n",
        "  return Df\n",
        "\n",
        "#define Gauss-Newton method as function\n",
        "def GaussNewton(c0,x,y): #c0 is the starting point, \n",
        "  maxIter = 1000 #max 1000 iterations\n",
        "  tol = 1e-2 #\n",
        "  Df = computeDf(c0, x) #Jacobian at c0\n",
        "  f = kin(x, *c0.T)\n",
        "  res = y-f #residual from starting point\n",
        "  i=1\n",
        "  c=c0\n",
        "  res_norms = []\n",
        "  while (norm (np.matmul(Df.T,res))>tol and i<maxIter):\n",
        "    #we want to iterate\n",
        "    c = c+np.matmul(inv(np.matmul(Df.T,Df)), np.matmul(Df.T,np.subtract(y,f)))\n",
        "    # need to update rest of the variables\n",
        "    Df = computeDf(c,x)\n",
        "    f = kin (x, *c.T)\n",
        "    res = y-f\n",
        "    i+= 1\n",
        "    res_norms += [norm(res)] \n",
        "  return c, i, res, res_norms\n",
        "c0 = np.array ([500,70])\n",
        "c,i, res, res_norms = GaussNewton(c0,x,y)\n",
        "\n",
        "\n",
        "'''\n",
        "print (\"parameters found using Gauss-Newton: \", c)\n",
        "print(\"\\nNumber of iterations done\", i)\n",
        "'''\n",
        "plt.figure ( figsize = (5,5))\n",
        "plt.plot (range(1,i), res_norms) \n",
        "ax = plt.gca()\n",
        "ax.set_yscale('log')\n",
        "#range(1, i+1) vector going from 1 to i"
      ],
      "metadata": {
        "colab": {
          "base_uri": "https://localhost:8080/",
          "height": 320
        },
        "id": "5mD4CB2_7v6o",
        "outputId": "5f8660cf-faf6-4574-e23f-146523b751c0"
      },
      "execution_count": null,
      "outputs": [
        {
          "output_type": "display_data",
          "data": {
            "text/plain": [
              "<Figure size 360x360 with 1 Axes>"
            ],
            "image/png": "[encoded data removed]"
          },
          "metadata": {
            "needs_background": "light"
          }
        }
      ]
    },
    {
      "cell_type": "code",
      "source": [
        "\n"
      ],
      "metadata": {
        "id": "ITFx_3ecFEuQ"
      },
      "execution_count": null,
      "outputs": []
    }
  ]
}